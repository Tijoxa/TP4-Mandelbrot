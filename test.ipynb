{
 "cells": [
  {
   "cell_type": "code",
   "execution_count": 1,
   "metadata": {},
   "outputs": [],
   "source": [
    "def suite(z, c):\n",
    "    \"\"\"Générateur des éléments de la suite $z_{n+1}=z_n^2+c$\n",
    "    \n",
    "    c.f. Chapitre 2\"\"\"\n",
    "    while True:\n",
    "        yield z\n",
    "        z = z ** 2 + c"
   ]
  },
  {
   "cell_type": "code",
   "execution_count": null,
   "metadata": {},
   "outputs": [],
   "source": []
  },
  {
   "cell_type": "code",
   "execution_count": 6,
   "metadata": {},
   "outputs": [],
   "source": [
    "def suite_mandelbrot(c:complex=2)-> bool:\n",
    "    \"\"\"Renvoie la suite de Mandelbrot\"\"\"\n",
    "    return suite(0, c)\n",
    "\n",
    "def suite_julia(z:complex=1, c:complex=2) -> bool:\n",
    "    \"\"\"Renvoie la suite de julia pour candidat et parametre\"\"\"\n",
    "    return suite(z,c)"
   ]
  },
  {
   "cell_type": "code",
   "execution_count": 9,
   "metadata": {},
   "outputs": [],
   "source": [
    "a = suite_mandelbrot()"
   ]
  },
  {
   "cell_type": "code",
   "execution_count": 15,
   "metadata": {},
   "outputs": [
    {
     "data": {
      "text/plain": [
       "1446"
      ]
     },
     "execution_count": 15,
     "metadata": {},
     "output_type": "execute_result"
    }
   ],
   "source": [
    "next(a)"
   ]
  },
  {
   "cell_type": "code",
   "execution_count": 44,
   "metadata": {},
   "outputs": [],
   "source": [
    "def is_in_Julia(z:complex=0.25+0.25j, c:complex=0.25, max_iter:int=100) -> bool:\n",
    "    julia = suite_julia(z, c) # on définit l'élement de coordonnées c d'un ensemble qui peut être de Julia\n",
    "    N = 0\n",
    "    eps = 1e-4\n",
    "    julia_value_1 = next(julia)\n",
    "    julia_value_2 = next(julia)\n",
    "    while abs(julia_value_2-julia_value_1) > eps and N < max_iter:\n",
    "        N += 1\n",
    "        julia_value_1 = julia_value_2\n",
    "        julia_value_2 = next(julia)\n",
    "    if N < max_iter: # L'ensemble est de Julia\n",
    "        while abs(next(julia)) < 2 and N < max_iter:\n",
    "            N += 1\n",
    "        return N == max_iter\n",
    "    return \"False\" # l'ensemble n'est pas Julia (on n'a pas réussi à converger)"
   ]
  },
  {
   "cell_type": "code",
   "execution_count": 45,
   "metadata": {},
   "outputs": [
    {
     "data": {
      "text/plain": [
       "True"
      ]
     },
     "execution_count": 45,
     "metadata": {},
     "output_type": "execute_result"
    }
   ],
   "source": [
    "is_in_Julia()"
   ]
  },
  {
   "cell_type": "code",
   "execution_count": 84,
   "metadata": {},
   "outputs": [],
   "source": [
    "import numpy as np\n",
    "from src.mandelbrot.mandelbrot import is_in_Mandelbrot\n",
    "from PIL import Image\n",
    "from tqdm import tqdm\n",
    "\n",
    "def plot_mandelbrot(zmin:complex, zmax:complex, pixel_size:float, max_iter:int, figname:str):\n",
    "    img = Image.new('L', (2000, 2000))\n",
    "    rmin, imin = zmin.real, zmin.imag\n",
    "    rmax, imax = zmax.real, zmax.imag\n",
    "    rdiff, idiff = rmax-rmin, imax-imin\n",
    "    X = np.arange(rmin, rmax, pixel_size)\n",
    "    Y = np.arange(imin, imax, pixel_size)\n",
    "    stream = tqdm(X)\n",
    "    stream.set_description(\"Génération de l'image...\")\n",
    "    for x in stream:\n",
    "        for y in Y:\n",
    "            c = complex(x, y)\n",
    "            booleen = is_in_Mandelbrot(c, max_iter)\n",
    "            if booleen:\n",
    "                tup = (int(2000*(x-rmin)/rdiff), int(2000*(y-imin)/idiff))\n",
    "                img.putpixel(tup, 255)\n",
    "    img.save(figname)"
   ]
  },
  {
   "cell_type": "code",
   "execution_count": 85,
   "metadata": {},
   "outputs": [
    {
     "name": "stderr",
     "output_type": "stream",
     "text": [
      "Génération de l'image...: 100%|██████████| 3000/3000 [05:52<00:00,  8.51it/s]\n"
     ]
    }
   ],
   "source": [
    "plot_mandelbrot(zmin=-0.7440+0.1305j,\n",
    "                zmax=-0.7425+0.1320j,\n",
    "                pixel_size=5e-7,\n",
    "                max_iter=200,\n",
    "                figname=\"src/mandelbrot/results/Mandelbrot_tentacle.png\")"
   ]
  },
  {
   "cell_type": "code",
   "execution_count": 78,
   "metadata": {},
   "outputs": [],
   "source": [
    "from PIL import Image\n",
    "\n",
    "def newImg(item:complex):\n",
    "    img = Image.new('L', (10, 10))\n",
    "    tup = int(item.real), int(item.imag)\n",
    "    img.putpixel(tup, 255)\n",
    "    # img.save('sqr.png')\n",
    "\n",
    "    return img"
   ]
  },
  {
   "cell_type": "code",
   "execution_count": 81,
   "metadata": {},
   "outputs": [
    {
     "data": {
      "image/png": "[encoded data removed]",
      "text/plain": [
       "<PIL.Image.Image image mode=L size=10x10>"
      ]
     },
     "execution_count": 81,
     "metadata": {},
     "output_type": "execute_result"
    }
   ],
   "source": [
    "newImg(0+0j)"
   ]
  },
  {
   "cell_type": "code",
   "execution_count": null,
   "metadata": {},
   "outputs": [],
   "source": []
  },
  {
   "cell_type": "code",
   "execution_count": null,
   "metadata": {},
   "outputs": [],
   "source": []
  }
 ],
 "metadata": {
  "kernelspec": {
   "display_name": "Python 3.10.4 ('main')",
   "language": "python",
   "name": "python3"
  },
  "language_info": {
   "codemirror_mode": {
    "name": "ipython",
    "version": 3
   },
   "file_extension": ".py",
   "mimetype": "text/x-python",
   "name": "python",
   "nbconvert_exporter": "python",
   "pygments_lexer": "ipython3",
   "version": "3.10.4"
  },
  "orig_nbformat": 4,
  "vscode": {
   "interpreter": {
    "hash": "1bb1d446d2b1a882b2b80808e0049db32a4e04638c5079d1889cd51fa073c0aa"
   }
  }
 },
 "nbformat": 4,
 "nbformat_minor": 2
}
